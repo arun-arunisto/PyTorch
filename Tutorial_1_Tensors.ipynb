{
  "nbformat": 4,
  "nbformat_minor": 0,
  "metadata": {
    "colab": {
      "provenance": [],
      "authorship_tag": "ABX9TyP8D0vcYN7/z6TKhSUcfo8C",
      "include_colab_link": true
    },
    "kernelspec": {
      "name": "python3",
      "display_name": "Python 3"
    },
    "language_info": {
      "name": "python"
    }
  },
  "cells": [
    {
      "cell_type": "markdown",
      "metadata": {
        "id": "view-in-github",
        "colab_type": "text"
      },
      "source": [
        "<a href=\"https://colab.research.google.com/github/arun-arunisto/PyTorch/blob/main/Tutorial_1_Tensors.ipynb\" target=\"_parent\"><img src=\"https://colab.research.google.com/assets/colab-badge.svg\" alt=\"Open In Colab\"/></a>"
      ]
    },
    {
      "cell_type": "markdown",
      "source": [
        "# Tensors\n",
        "\n",
        "Tensors are a specialized data structure that are very similar to arrays and matrices. In PyTorch, we use tensors to encode the inputs and outputs of a model, as well as the model’s parameters.\n",
        "\n",
        "Tensors are similar to NumPy’s ndarrays, except that tensors can run on GPUs or other hardware accelerators. In fact, tensors and NumPy arrays can often share the same underlying memory, eliminating the need to copy data. Tensors are also optimized for automatic differentiation."
      ],
      "metadata": {
        "id": "sYzEQvG28qQf"
      }
    },
    {
      "cell_type": "code",
      "execution_count": 1,
      "metadata": {
        "id": "DZ4n0K9m7pWu"
      },
      "outputs": [],
      "source": [
        "import torch\n",
        "import numpy as np"
      ]
    },
    {
      "cell_type": "markdown",
      "source": [
        "## Initailizing a Tensor\n",
        "\n",
        "Tensor can intialize in different ways:\n",
        "\n",
        "1. Directly from data"
      ],
      "metadata": {
        "id": "HJlU11Ut9fTE"
      }
    },
    {
      "cell_type": "code",
      "source": [
        "data = [[1, 2, 3], [4, 5, 6], [7, 8, 9]]\n",
        "tensor_data = torch.tensor(data)"
      ],
      "metadata": {
        "id": "nZ0P345U9au9"
      },
      "execution_count": 2,
      "outputs": []
    },
    {
      "cell_type": "code",
      "source": [
        "print(\"Normal data:\\n\",data)"
      ],
      "metadata": {
        "colab": {
          "base_uri": "https://localhost:8080/"
        },
        "id": "mwnscpA29_wC",
        "outputId": "0ffe43e6-264b-4217-ad34-bf9a2361f002"
      },
      "execution_count": 7,
      "outputs": [
        {
          "output_type": "stream",
          "name": "stdout",
          "text": [
            "Normal data:\n",
            " [[1, 2, 3], [4, 5, 6], [7, 8, 9]]\n"
          ]
        }
      ]
    },
    {
      "cell_type": "code",
      "source": [
        "print(\"Tensor data:\\n\",tensor_data)"
      ],
      "metadata": {
        "colab": {
          "base_uri": "https://localhost:8080/"
        },
        "id": "Fk5niGND-DGj",
        "outputId": "6d67e4f8-2a5f-4ef2-fc63-b44fe6bf76c2"
      },
      "execution_count": 8,
      "outputs": [
        {
          "output_type": "stream",
          "name": "stdout",
          "text": [
            "Tensor data:\n",
            " tensor([[1, 2, 3],\n",
            "        [4, 5, 6],\n",
            "        [7, 8, 9]])\n"
          ]
        }
      ]
    },
    {
      "cell_type": "markdown",
      "source": [
        "2. From a **Numpy** array"
      ],
      "metadata": {
        "id": "xI98YY9N-LhL"
      }
    },
    {
      "cell_type": "code",
      "source": [
        "np_array = np.array(data)\n",
        "tensor_np = torch.from_numpy(np_array)"
      ],
      "metadata": {
        "id": "e5vsUKin-Gp_"
      },
      "execution_count": 5,
      "outputs": []
    },
    {
      "cell_type": "code",
      "source": [
        "print(\"Numpy array:\\n\",np_array)"
      ],
      "metadata": {
        "colab": {
          "base_uri": "https://localhost:8080/"
        },
        "id": "Y7U1zITt-fxk",
        "outputId": "a52769e1-30db-4eaa-8f46-aeb0fdb40458"
      },
      "execution_count": 6,
      "outputs": [
        {
          "output_type": "stream",
          "name": "stdout",
          "text": [
            "Numpy array:\n",
            " [[1 2 3]\n",
            " [4 5 6]\n",
            " [7 8 9]]\n"
          ]
        }
      ]
    },
    {
      "cell_type": "code",
      "source": [
        "print(\"Tensor numpy array:\\n\",tensor_np)"
      ],
      "metadata": {
        "colab": {
          "base_uri": "https://localhost:8080/"
        },
        "id": "TxLr09A9-m3S",
        "outputId": "fe3ff3be-e0bb-4ca6-8da1-7324df97b8cd"
      },
      "execution_count": 9,
      "outputs": [
        {
          "output_type": "stream",
          "name": "stdout",
          "text": [
            "Tensor numpy array:\n",
            " tensor([[1, 2, 3],\n",
            "        [4, 5, 6],\n",
            "        [7, 8, 9]])\n"
          ]
        }
      ]
    },
    {
      "cell_type": "markdown",
      "source": [
        "3. From another tensor\n",
        "\n",
        "The new tensor retains the properties (shape, datatype) of the argument tensor, unless explicitly overridden."
      ],
      "metadata": {
        "id": "3sQKBXGi_CI6"
      }
    },
    {
      "cell_type": "code",
      "source": [
        "# retaining the properties of tensor data\n",
        "tensor_ones = torch.ones_like(tensor_data)"
      ],
      "metadata": {
        "id": "yJqyh6Cq-ww_"
      },
      "execution_count": 10,
      "outputs": []
    },
    {
      "cell_type": "code",
      "source": [
        "print(\"Tensor data used for retaining:\\n\",tensor_data)"
      ],
      "metadata": {
        "colab": {
          "base_uri": "https://localhost:8080/"
        },
        "id": "14uxw6Bv_kkO",
        "outputId": "da355cc2-0734-4eb9-eef3-69c30b0fd884"
      },
      "execution_count": 11,
      "outputs": [
        {
          "output_type": "stream",
          "name": "stdout",
          "text": [
            "Tensor data used for retaining:\n",
            " tensor([[1, 2, 3],\n",
            "        [4, 5, 6],\n",
            "        [7, 8, 9]])\n"
          ]
        }
      ]
    },
    {
      "cell_type": "code",
      "source": [
        "print(\"Retained data:\\n\",tensor_ones)"
      ],
      "metadata": {
        "colab": {
          "base_uri": "https://localhost:8080/"
        },
        "id": "y-ZzM-vr_smq",
        "outputId": "55b14595-022a-4370-9d91-92cec8773731"
      },
      "execution_count": 12,
      "outputs": [
        {
          "output_type": "stream",
          "name": "stdout",
          "text": [
            "Retained data:\n",
            " tensor([[1, 1, 1],\n",
            "        [1, 1, 1],\n",
            "        [1, 1, 1]])\n"
          ]
        }
      ]
    },
    {
      "cell_type": "code",
      "source": [
        "# overrides the shape and retaining the properties of the tensor\n",
        "tensor_rand = torch.rand_like(tensor_np, dtype=torch.float)"
      ],
      "metadata": {
        "id": "BF1cjNAz_z-F"
      },
      "execution_count": 13,
      "outputs": []
    },
    {
      "cell_type": "code",
      "source": [
        "print(\"Overrides shape with random values:\\n\",tensor_rand)"
      ],
      "metadata": {
        "colab": {
          "base_uri": "https://localhost:8080/"
        },
        "id": "4X-KMLvMAPps",
        "outputId": "de2bb3b3-2fbf-4b23-8dd4-5a505bacfab3"
      },
      "execution_count": 15,
      "outputs": [
        {
          "output_type": "stream",
          "name": "stdout",
          "text": [
            "Overrides shape with random values:\n",
            " tensor([[0.7089, 0.5365, 0.4397],\n",
            "        [0.2067, 0.0933, 0.6247],\n",
            "        [0.6613, 0.8169, 0.5444]])\n"
          ]
        }
      ]
    },
    {
      "cell_type": "markdown",
      "source": [
        "4. With random or constant values"
      ],
      "metadata": {
        "id": "wHN0zvcpEfQt"
      }
    },
    {
      "cell_type": "code",
      "source": [
        "shape = (2, 3,)"
      ],
      "metadata": {
        "id": "r4zwcztSAp4s"
      },
      "execution_count": 16,
      "outputs": []
    },
    {
      "cell_type": "code",
      "source": [
        "#with random tensor\n",
        "random_tensor = torch.rand(shape)"
      ],
      "metadata": {
        "id": "-DfOphDUEryV"
      },
      "execution_count": 17,
      "outputs": []
    },
    {
      "cell_type": "code",
      "source": [
        "print(\"Random tensor:\\n\",random_tensor)"
      ],
      "metadata": {
        "colab": {
          "base_uri": "https://localhost:8080/"
        },
        "id": "DO4_y7JREznI",
        "outputId": "e737eb6e-bf51-4824-ebc4-8b57e3755d8d"
      },
      "execution_count": 18,
      "outputs": [
        {
          "output_type": "stream",
          "name": "stdout",
          "text": [
            "Random tensor:\n",
            " tensor([[0.6979, 0.0677, 0.6600],\n",
            "        [0.2520, 0.1995, 0.9161]])\n"
          ]
        }
      ]
    },
    {
      "cell_type": "markdown",
      "source": [
        "`shape` is a tuple of tensor dimensions."
      ],
      "metadata": {
        "id": "YL7ZIJaBFEcS"
      }
    },
    {
      "cell_type": "code",
      "source": [
        "#with ones\n",
        "ones_tensor = torch.ones(shape)"
      ],
      "metadata": {
        "id": "cGkr0cczE5KG"
      },
      "execution_count": 19,
      "outputs": []
    },
    {
      "cell_type": "code",
      "source": [
        "print(\"Ones tensor:\\n\",ones_tensor)"
      ],
      "metadata": {
        "colab": {
          "base_uri": "https://localhost:8080/"
        },
        "id": "dktglD1hFNp6",
        "outputId": "24b2bfe6-0ff7-4575-9574-988579165ff9"
      },
      "execution_count": 20,
      "outputs": [
        {
          "output_type": "stream",
          "name": "stdout",
          "text": [
            "Ones tensor:\n",
            " tensor([[1., 1., 1.],\n",
            "        [1., 1., 1.]])\n"
          ]
        }
      ]
    },
    {
      "cell_type": "code",
      "source": [
        "#with zeros\n",
        "zeros_tensor = torch.zeros(shape)"
      ],
      "metadata": {
        "id": "Z-Ho_jRdFSNO"
      },
      "execution_count": 21,
      "outputs": []
    },
    {
      "cell_type": "code",
      "source": [
        "print(\"Zeros tensor:\\n\",zeros_tensor)"
      ],
      "metadata": {
        "colab": {
          "base_uri": "https://localhost:8080/"
        },
        "id": "biMYuwbCFXyj",
        "outputId": "0f6c45ed-d6f0-4e41-dc5b-fd867a4ef63b"
      },
      "execution_count": 22,
      "outputs": [
        {
          "output_type": "stream",
          "name": "stdout",
          "text": [
            "Zeros tensor:\n",
            " tensor([[0., 0., 0.],\n",
            "        [0., 0., 0.]])\n"
          ]
        }
      ]
    },
    {
      "cell_type": "markdown",
      "source": [
        "## Attributes of a tensor\n",
        "\n",
        "Tensor attributes describe their shape, datatype, and the device on which they are stored."
      ],
      "metadata": {
        "id": "rID9SPc3Ftwm"
      }
    },
    {
      "cell_type": "code",
      "source": [
        "tensor_ = torch.rand(2, 3)"
      ],
      "metadata": {
        "id": "AOwN1yjBFcFv"
      },
      "execution_count": 23,
      "outputs": []
    },
    {
      "cell_type": "code",
      "source": [
        "print(\"Shape of the tensor:\\n\",tensor_.shape)"
      ],
      "metadata": {
        "colab": {
          "base_uri": "https://localhost:8080/"
        },
        "id": "-tN08rQhF_Gb",
        "outputId": "35e9531d-72af-4dd1-9c70-0096b90c0d88"
      },
      "execution_count": 24,
      "outputs": [
        {
          "output_type": "stream",
          "name": "stdout",
          "text": [
            "Shape of the tensor:\n",
            " torch.Size([2, 3])\n"
          ]
        }
      ]
    },
    {
      "cell_type": "code",
      "source": [
        "print(\"Datatype of the tensor:\\n\",tensor_.dtype)"
      ],
      "metadata": {
        "colab": {
          "base_uri": "https://localhost:8080/"
        },
        "id": "eQpaSrCoGEKd",
        "outputId": "ec1a6cf7-cca3-4705-b7bf-a1122306fea3"
      },
      "execution_count": 25,
      "outputs": [
        {
          "output_type": "stream",
          "name": "stdout",
          "text": [
            "Datatype of the tensor:\n",
            " torch.float32\n"
          ]
        }
      ]
    },
    {
      "cell_type": "code",
      "source": [
        "print(\"Device where the tensor is stored:\\n\",tensor_.device)"
      ],
      "metadata": {
        "colab": {
          "base_uri": "https://localhost:8080/"
        },
        "id": "vAvdZRhJGLkP",
        "outputId": "4f4caea8-b6f7-4776-bfe9-ccfd4fe180d9"
      },
      "execution_count": 26,
      "outputs": [
        {
          "output_type": "stream",
          "name": "stdout",
          "text": [
            "Device where the tensor is stored:\n",
            " cpu\n"
          ]
        }
      ]
    },
    {
      "cell_type": "markdown",
      "source": [
        "## Operations on tensor\n",
        "\n",
        "Over 100 tensor operations, including arithmetic, linear algebra, matrix manipulation (transposing, indexing, slicing), sampling and more.\n",
        "\n",
        "Each of these operations can be run on the GPU (at typically higher speeds than on a CPU). If you’re using Colab, allocate a GPU by going to Runtime > Change runtime type > GPU.\n",
        "\n",
        "By default, tensors are created on the CPU. We need to explicitly move tensors to the GPU using .to method (after checking for GPU availability). Keep in mind that copying large tensors across devices can be expensive in terms of time and memory!"
      ],
      "metadata": {
        "id": "2WLTFjtxGsyw"
      }
    },
    {
      "cell_type": "code",
      "source": [
        "#checking for gpu (i didnt change my runtime to gpu so it will be cpu only)\n",
        "device = 'cuda' if torch.cuda.is_available() else 'cpu'\n",
        "print('Using {} device'.format(device))"
      ],
      "metadata": {
        "colab": {
          "base_uri": "https://localhost:8080/"
        },
        "id": "XRojnnZ_GSM5",
        "outputId": "b667d052-e443-4fba-a9e9-ccd7ebeffd81"
      },
      "execution_count": 27,
      "outputs": [
        {
          "output_type": "stream",
          "name": "stdout",
          "text": [
            "Using cpu device\n"
          ]
        }
      ]
    },
    {
      "cell_type": "code",
      "source": [
        "# moving our tensor to device(GPU or CPU based on availability)\n",
        "tensor_ = tensor_.to(device)"
      ],
      "metadata": {
        "id": "p6usIFQeHPXO"
      },
      "execution_count": 28,
      "outputs": []
    },
    {
      "cell_type": "markdown",
      "source": [
        "***Standard indexing and slicing***"
      ],
      "metadata": {
        "id": "X7L8smwVHtlN"
      }
    },
    {
      "cell_type": "code",
      "source": [
        "tensor_ops = torch.ones(4, 4)"
      ],
      "metadata": {
        "id": "i6JXC3yEHc7Y"
      },
      "execution_count": 29,
      "outputs": []
    },
    {
      "cell_type": "code",
      "source": [
        "print(\"Tensor data:\\n\",tensor_ops)"
      ],
      "metadata": {
        "colab": {
          "base_uri": "https://localhost:8080/"
        },
        "id": "tqlNAB6pIA33",
        "outputId": "238febae-6db9-43b2-91c0-fa912f5414fc"
      },
      "execution_count": 30,
      "outputs": [
        {
          "output_type": "stream",
          "name": "stdout",
          "text": [
            "Tensor data:\n",
            " tensor([[1., 1., 1., 1.],\n",
            "        [1., 1., 1., 1.],\n",
            "        [1., 1., 1., 1.],\n",
            "        [1., 1., 1., 1.]])\n"
          ]
        }
      ]
    },
    {
      "cell_type": "code",
      "source": [
        "print(\"First row:\\n\",tensor_ops[0])"
      ],
      "metadata": {
        "colab": {
          "base_uri": "https://localhost:8080/"
        },
        "id": "ZJNE-S4PIEJD",
        "outputId": "4b8500d8-a18b-43a4-f440-b8b92da720f3"
      },
      "execution_count": 31,
      "outputs": [
        {
          "output_type": "stream",
          "name": "stdout",
          "text": [
            "First row:\n",
            " tensor([1., 1., 1., 1.])\n"
          ]
        }
      ]
    },
    {
      "cell_type": "code",
      "source": [
        "print(\"First column:\\n\",tensor_ops[:, 0])"
      ],
      "metadata": {
        "colab": {
          "base_uri": "https://localhost:8080/"
        },
        "id": "5JER657GIJmH",
        "outputId": "e6a91905-8e5e-4bd5-8d54-95656e242db3"
      },
      "execution_count": 32,
      "outputs": [
        {
          "output_type": "stream",
          "name": "stdout",
          "text": [
            "First column:\n",
            " tensor([1., 1., 1., 1.])\n"
          ]
        }
      ]
    },
    {
      "cell_type": "code",
      "source": [
        "print(\"Last column:\\n\",tensor_ops[..., -1])"
      ],
      "metadata": {
        "colab": {
          "base_uri": "https://localhost:8080/"
        },
        "id": "bouCDeFNI6Tk",
        "outputId": "6b016ba4-8128-4ea4-90d3-7d89b1690765"
      },
      "execution_count": 33,
      "outputs": [
        {
          "output_type": "stream",
          "name": "stdout",
          "text": [
            "Last column:\n",
            " tensor([1., 1., 1., 1.])\n"
          ]
        }
      ]
    },
    {
      "cell_type": "code",
      "source": [
        "#changing values\n",
        "tensor_ops[:, 1] = 0"
      ],
      "metadata": {
        "id": "ubV0f892JAsJ"
      },
      "execution_count": 34,
      "outputs": []
    },
    {
      "cell_type": "code",
      "source": [
        "print(\"After changing 1 to 0:\\n\",tensor_ops)"
      ],
      "metadata": {
        "colab": {
          "base_uri": "https://localhost:8080/"
        },
        "id": "tRyxUVPmJid0",
        "outputId": "b9ec94c0-2b22-48e2-f204-956923fbd944"
      },
      "execution_count": 35,
      "outputs": [
        {
          "output_type": "stream",
          "name": "stdout",
          "text": [
            "After changing 1 to 0:\n",
            " tensor([[1., 0., 1., 1.],\n",
            "        [1., 0., 1., 1.],\n",
            "        [1., 0., 1., 1.],\n",
            "        [1., 0., 1., 1.]])\n"
          ]
        }
      ]
    },
    {
      "cell_type": "markdown",
      "source": [
        "***Concatenating tenosrs***\n",
        "\n",
        "You can use `torch.cat` to concatenate a sequence of tensors along a given dimension."
      ],
      "metadata": {
        "id": "UQST34y2Juvz"
      }
    },
    {
      "cell_type": "code",
      "source": [
        "tensor_concat = torch.cat([tensor_ops, tensor_ops, tensor_ops], dim=1)"
      ],
      "metadata": {
        "id": "kWWk9HPZJn5Z"
      },
      "execution_count": 39,
      "outputs": []
    },
    {
      "cell_type": "code",
      "source": [
        "print(\"After concatenating:\\n\",tensor_concat)"
      ],
      "metadata": {
        "colab": {
          "base_uri": "https://localhost:8080/"
        },
        "id": "XnTwyldgKF3m",
        "outputId": "e99e1b0f-46df-48c7-d985-d3ee4df93b7e"
      },
      "execution_count": 40,
      "outputs": [
        {
          "output_type": "stream",
          "name": "stdout",
          "text": [
            "After concatenating:\n",
            " tensor([[1., 0., 1., 1., 1., 0., 1., 1., 1., 0., 1., 1.],\n",
            "        [1., 0., 1., 1., 1., 0., 1., 1., 1., 0., 1., 1.],\n",
            "        [1., 0., 1., 1., 1., 0., 1., 1., 1., 0., 1., 1.],\n",
            "        [1., 0., 1., 1., 1., 0., 1., 1., 1., 0., 1., 1.]])\n"
          ]
        }
      ]
    },
    {
      "cell_type": "markdown",
      "source": [
        "`torch.cat()` concatenates the given sequence along an existing dimension. There's an another method `torch.stack()` another tensor joining op that is subtly different from torch.cat."
      ],
      "metadata": {
        "id": "wFr_YeKLKtb8"
      }
    },
    {
      "cell_type": "markdown",
      "source": [
        "`torch.stack()` - Concatenates a sequence of tensors along a new dimension and  all tensors need to be of the same size."
      ],
      "metadata": {
        "id": "CuAQr3YHK_YU"
      }
    },
    {
      "cell_type": "code",
      "source": [
        "x = torch.randn(2, 3)\n",
        "print(\"Random tensor x:\\n\",x)"
      ],
      "metadata": {
        "colab": {
          "base_uri": "https://localhost:8080/"
        },
        "id": "k0wxu7Y-Kbve",
        "outputId": "e57197de-9994-4cfe-9eb0-3923c3d7528f"
      },
      "execution_count": 41,
      "outputs": [
        {
          "output_type": "stream",
          "name": "stdout",
          "text": [
            "Random tensor x:\n",
            " tensor([[-2.5896,  0.4358, -0.6318],\n",
            "        [ 0.6066,  0.2952,  0.2113]])\n"
          ]
        }
      ]
    },
    {
      "cell_type": "code",
      "source": [
        "#dim=0\n",
        "dim_0_tensor = torch.stack((x, x)) #same as torch.stack((x, x), dim=0)"
      ],
      "metadata": {
        "id": "NsKg6mC-Lez2"
      },
      "execution_count": 42,
      "outputs": []
    },
    {
      "cell_type": "code",
      "source": [
        "print(\"Dimesion 0:\\n\",dim_0_tensor)"
      ],
      "metadata": {
        "colab": {
          "base_uri": "https://localhost:8080/"
        },
        "id": "itv-rma6L4TX",
        "outputId": "88d64fce-21eb-4808-a93e-ceea8c2e26e4"
      },
      "execution_count": 43,
      "outputs": [
        {
          "output_type": "stream",
          "name": "stdout",
          "text": [
            "Dimesion 0:\n",
            " tensor([[[-2.5896,  0.4358, -0.6318],\n",
            "         [ 0.6066,  0.2952,  0.2113]],\n",
            "\n",
            "        [[-2.5896,  0.4358, -0.6318],\n",
            "         [ 0.6066,  0.2952,  0.2113]]])\n"
          ]
        }
      ]
    },
    {
      "cell_type": "code",
      "source": [
        "print(\"Shape of the tensor:\\n\",dim_0_tensor.size())"
      ],
      "metadata": {
        "colab": {
          "base_uri": "https://localhost:8080/"
        },
        "id": "JjRpExHZME6F",
        "outputId": "30862033-cef7-47c8-c532-a7800cc22719"
      },
      "execution_count": 46,
      "outputs": [
        {
          "output_type": "stream",
          "name": "stdout",
          "text": [
            "Shape of the tensor:\n",
            " torch.Size([2, 2, 3])\n"
          ]
        }
      ]
    },
    {
      "cell_type": "code",
      "source": [
        "#dim=1\n",
        "dim_1_tensor = torch.stack((x, x), dim=1)"
      ],
      "metadata": {
        "id": "HCLDLBvqL8Io"
      },
      "execution_count": 44,
      "outputs": []
    },
    {
      "cell_type": "code",
      "source": [
        "print(\"Dimension 1:\\n\",dim_1_tensor)"
      ],
      "metadata": {
        "colab": {
          "base_uri": "https://localhost:8080/"
        },
        "id": "1vOQ4r0BMA49",
        "outputId": "ffff0e2d-51a5-4800-d872-b6cc1906e6b7"
      },
      "execution_count": 47,
      "outputs": [
        {
          "output_type": "stream",
          "name": "stdout",
          "text": [
            "Dimension 1:\n",
            " tensor([[[-2.5896,  0.4358, -0.6318],\n",
            "         [-2.5896,  0.4358, -0.6318]],\n",
            "\n",
            "        [[ 0.6066,  0.2952,  0.2113],\n",
            "         [ 0.6066,  0.2952,  0.2113]]])\n"
          ]
        }
      ]
    },
    {
      "cell_type": "code",
      "source": [
        "print(\"Shape of the tensor:\\n\",dim_1_tensor.size())"
      ],
      "metadata": {
        "colab": {
          "base_uri": "https://localhost:8080/"
        },
        "id": "ceNrI0qHMXIP",
        "outputId": "447db7fe-b837-4cef-c0f2-da6e6c82de39"
      },
      "execution_count": 48,
      "outputs": [
        {
          "output_type": "stream",
          "name": "stdout",
          "text": [
            "Shape of the tensor:\n",
            " torch.Size([2, 2, 3])\n"
          ]
        }
      ]
    },
    {
      "cell_type": "code",
      "source": [
        "#dim=2\n",
        "dim_2_tensor = torch.stack((x, x), dim=2)"
      ],
      "metadata": {
        "id": "YJSObjsEMewx"
      },
      "execution_count": 49,
      "outputs": []
    },
    {
      "cell_type": "code",
      "source": [
        "print(\"Dimension 2:\\n\",dim_2_tensor)"
      ],
      "metadata": {
        "colab": {
          "base_uri": "https://localhost:8080/"
        },
        "id": "IgG8J0p0MnDl",
        "outputId": "fcc9e7b9-c285-4424-8734-573cab0c8a56"
      },
      "execution_count": 50,
      "outputs": [
        {
          "output_type": "stream",
          "name": "stdout",
          "text": [
            "Dimension 2:\n",
            " tensor([[[-2.5896, -2.5896],\n",
            "         [ 0.4358,  0.4358],\n",
            "         [-0.6318, -0.6318]],\n",
            "\n",
            "        [[ 0.6066,  0.6066],\n",
            "         [ 0.2952,  0.2952],\n",
            "         [ 0.2113,  0.2113]]])\n"
          ]
        }
      ]
    },
    {
      "cell_type": "code",
      "source": [
        "print(\"Shape of the tensor:\\n\",dim_2_tensor.size())"
      ],
      "metadata": {
        "colab": {
          "base_uri": "https://localhost:8080/"
        },
        "id": "Do9JSb6cMrdJ",
        "outputId": "da81623a-587c-415a-d92c-b1ca7a72e736"
      },
      "execution_count": 51,
      "outputs": [
        {
          "output_type": "stream",
          "name": "stdout",
          "text": [
            "Shape of the tensor:\n",
            " torch.Size([2, 3, 2])\n"
          ]
        }
      ]
    },
    {
      "cell_type": "code",
      "source": [
        "#dim=-1\n",
        "dim_neg_1_tensor = torch.stack((x, x), dim=-1)"
      ],
      "metadata": {
        "id": "pRC5jg0eM1zz"
      },
      "execution_count": 52,
      "outputs": []
    },
    {
      "cell_type": "code",
      "source": [
        "print(\"Dimesion -1:\\n\",dim_neg_1_tensor)"
      ],
      "metadata": {
        "colab": {
          "base_uri": "https://localhost:8080/"
        },
        "id": "kykvpjKINBZQ",
        "outputId": "2b90c55d-7dee-48a6-b1e9-2cd38a946eb1"
      },
      "execution_count": 53,
      "outputs": [
        {
          "output_type": "stream",
          "name": "stdout",
          "text": [
            "Dimesion -1:\n",
            " tensor([[[-2.5896, -2.5896],\n",
            "         [ 0.4358,  0.4358],\n",
            "         [-0.6318, -0.6318]],\n",
            "\n",
            "        [[ 0.6066,  0.6066],\n",
            "         [ 0.2952,  0.2952],\n",
            "         [ 0.2113,  0.2113]]])\n"
          ]
        }
      ]
    },
    {
      "cell_type": "code",
      "source": [
        "print(\"Shape of the tensor:\\n\",dim_neg_1_tensor.size())"
      ],
      "metadata": {
        "colab": {
          "base_uri": "https://localhost:8080/"
        },
        "id": "VmYptYdsNHyJ",
        "outputId": "08fb3907-22dc-4201-ddbf-3e39ded6064a"
      },
      "execution_count": 54,
      "outputs": [
        {
          "output_type": "stream",
          "name": "stdout",
          "text": [
            "Shape of the tensor:\n",
            " torch.Size([2, 3, 2])\n"
          ]
        }
      ]
    },
    {
      "cell_type": "markdown",
      "source": [
        "## Arithematic Operations\n",
        "Matrix Multiplication between two two tensors"
      ],
      "metadata": {
        "id": "rIm7yaCjOSPR"
      }
    },
    {
      "cell_type": "code",
      "source": [
        "#first method\n",
        "y1 = tensor_ @ tensor_.T"
      ],
      "metadata": {
        "id": "A51csPhtNNHH"
      },
      "execution_count": 57,
      "outputs": []
    },
    {
      "cell_type": "code",
      "source": [
        "print(\"1st method:\\n\",y1)"
      ],
      "metadata": {
        "colab": {
          "base_uri": "https://localhost:8080/"
        },
        "id": "u6BrtU9HPK_H",
        "outputId": "091f45ab-a239-4945-badc-cd09ffa484ad"
      },
      "execution_count": 58,
      "outputs": [
        {
          "output_type": "stream",
          "name": "stdout",
          "text": [
            "1st method:\n",
            " tensor([[1.6309, 1.6063],\n",
            "        [1.6063, 2.0564]])\n"
          ]
        }
      ]
    },
    {
      "cell_type": "code",
      "source": [
        "#second method\n",
        "y2 = tensor_.matmul(tensor_.T)"
      ],
      "metadata": {
        "id": "jtbAW3_-PO0U"
      },
      "execution_count": 59,
      "outputs": []
    },
    {
      "cell_type": "code",
      "source": [
        "print(\"2nd method:\\n\",y2)"
      ],
      "metadata": {
        "colab": {
          "base_uri": "https://localhost:8080/"
        },
        "id": "i3HKNngEPa6y",
        "outputId": "c05181cf-31a8-479f-c7a3-68d17998e932"
      },
      "execution_count": 60,
      "outputs": [
        {
          "output_type": "stream",
          "name": "stdout",
          "text": [
            "2nd method:\n",
            " tensor([[1.6309, 1.6063],\n",
            "        [1.6063, 2.0564]])\n"
          ]
        }
      ]
    },
    {
      "cell_type": "markdown",
      "source": [
        "Computing element wise product"
      ],
      "metadata": {
        "id": "U3Ujq5z5Ptox"
      }
    },
    {
      "cell_type": "code",
      "source": [
        "#first method\n",
        "z1 = tensor_ * tensor_"
      ],
      "metadata": {
        "id": "WD_gwbJePdvB"
      },
      "execution_count": 61,
      "outputs": []
    },
    {
      "cell_type": "code",
      "source": [
        "print(\"First method:\\n\",z1)"
      ],
      "metadata": {
        "colab": {
          "base_uri": "https://localhost:8080/"
        },
        "id": "azQUqPZqP2sh",
        "outputId": "793a07e4-dae5-4b10-aff9-6949b4d27fcb"
      },
      "execution_count": 62,
      "outputs": [
        {
          "output_type": "stream",
          "name": "stdout",
          "text": [
            "First method:\n",
            " tensor([[0.5656, 0.0771, 0.9883],\n",
            "        [0.8217, 0.7643, 0.4704]])\n"
          ]
        }
      ]
    },
    {
      "cell_type": "code",
      "source": [
        "#second method\n",
        "z2 = tensor_.mul(tensor_)"
      ],
      "metadata": {
        "id": "teKEW6scP5eI"
      },
      "execution_count": 63,
      "outputs": []
    },
    {
      "cell_type": "code",
      "source": [
        "print(\"Second method:\\n\",z2)"
      ],
      "metadata": {
        "colab": {
          "base_uri": "https://localhost:8080/"
        },
        "id": "RJ3aRaOeQEvw",
        "outputId": "9ac2af7f-3892-4b40-cac7-8a75d660ee66"
      },
      "execution_count": 64,
      "outputs": [
        {
          "output_type": "stream",
          "name": "stdout",
          "text": [
            "Second method:\n",
            " tensor([[0.5656, 0.0771, 0.9883],\n",
            "        [0.8217, 0.7643, 0.4704]])\n"
          ]
        }
      ]
    },
    {
      "cell_type": "markdown",
      "source": [
        "If you have a one-element tensor, for example by aggregating all values of a tensor into one value, you can convert it to a Python numerical value using `item()`:"
      ],
      "metadata": {
        "id": "grk4tGoZQ0MW"
      }
    },
    {
      "cell_type": "code",
      "source": [
        "agg = tensor_.sum()\n",
        "agg_item = agg.item()"
      ],
      "metadata": {
        "id": "of09_g2bQHzs"
      },
      "execution_count": 65,
      "outputs": []
    },
    {
      "cell_type": "code",
      "source": [
        "print(\"Value:\\n\",agg_item)"
      ],
      "metadata": {
        "colab": {
          "base_uri": "https://localhost:8080/"
        },
        "id": "NwwI6rg2Rc-L",
        "outputId": "80bc7daf-a3cb-438e-863f-13c1b10a668d"
      },
      "execution_count": 66,
      "outputs": [
        {
          "output_type": "stream",
          "name": "stdout",
          "text": [
            "Value:\n",
            " 4.4903788566589355\n"
          ]
        }
      ]
    },
    {
      "cell_type": "code",
      "source": [
        "print(\"Type of the value:\\n\",type(agg_item))"
      ],
      "metadata": {
        "colab": {
          "base_uri": "https://localhost:8080/"
        },
        "id": "Ji87_2zQRhhR",
        "outputId": "42d2c0b1-121e-46da-f716-cd554c3253e7"
      },
      "execution_count": 67,
      "outputs": [
        {
          "output_type": "stream",
          "name": "stdout",
          "text": [
            "Type of the value:\n",
            " <class 'float'>\n"
          ]
        }
      ]
    },
    {
      "cell_type": "markdown",
      "source": [
        "Operations that store the result into the operand are called in-place. They are denoted by a `_` suffix. For example: `x.copy_(y)`, `x.t_()`, will change `x`."
      ],
      "metadata": {
        "id": "MoHczodlR1FH"
      }
    },
    {
      "cell_type": "code",
      "source": [
        "print(\"Tensor before:\\n\",tensor_)"
      ],
      "metadata": {
        "colab": {
          "base_uri": "https://localhost:8080/"
        },
        "id": "swicPyKGRnYW",
        "outputId": "60e30a9c-695c-429b-cd0c-a8ae60e1213d"
      },
      "execution_count": 68,
      "outputs": [
        {
          "output_type": "stream",
          "name": "stdout",
          "text": [
            "Tensor before:\n",
            " tensor([[0.7521, 0.2776, 0.9941],\n",
            "        [0.9065, 0.8742, 0.6859]])\n"
          ]
        }
      ]
    },
    {
      "cell_type": "code",
      "source": [
        "tensor_.add_(5)"
      ],
      "metadata": {
        "colab": {
          "base_uri": "https://localhost:8080/"
        },
        "id": "g1WCwWh-R_Ir",
        "outputId": "52ec1613-b7f9-4a98-916e-704932b78caf"
      },
      "execution_count": 69,
      "outputs": [
        {
          "output_type": "execute_result",
          "data": {
            "text/plain": [
              "tensor([[5.7521, 5.2776, 5.9941],\n",
              "        [5.9065, 5.8742, 5.6859]])"
            ]
          },
          "metadata": {},
          "execution_count": 69
        }
      ]
    },
    {
      "cell_type": "code",
      "source": [
        "print(\"Tensor after:\\n\",tensor_)"
      ],
      "metadata": {
        "colab": {
          "base_uri": "https://localhost:8080/"
        },
        "id": "8FrLitKfSBt7",
        "outputId": "4e289a6d-68f1-45c4-e52e-e7249f13d8f3"
      },
      "execution_count": 70,
      "outputs": [
        {
          "output_type": "stream",
          "name": "stdout",
          "text": [
            "Tensor after:\n",
            " tensor([[5.7521, 5.2776, 5.9941],\n",
            "        [5.9065, 5.8742, 5.6859]])\n"
          ]
        }
      ]
    },
    {
      "cell_type": "markdown",
      "source": [
        "## Bridge with numpy\n",
        "\n",
        "Tensors on the CPU and NumPy arrays can share their underlying memory locations, and changing one will change the other."
      ],
      "metadata": {
        "id": "HTzkmjYjSjKW"
      }
    },
    {
      "cell_type": "code",
      "source": [
        "tens_ones = torch.ones(5)\n",
        "num_ones = tens_ones.numpy()"
      ],
      "metadata": {
        "id": "PCw0_vJLSFd3"
      },
      "execution_count": 71,
      "outputs": []
    },
    {
      "cell_type": "code",
      "source": [
        "print(\"Tensor:\\n\",tens_ones)"
      ],
      "metadata": {
        "colab": {
          "base_uri": "https://localhost:8080/"
        },
        "id": "4uGUZLdXTM1Q",
        "outputId": "d89c6eae-f1e7-4c22-c7fe-6b682244dbd4"
      },
      "execution_count": 72,
      "outputs": [
        {
          "output_type": "stream",
          "name": "stdout",
          "text": [
            "Tensor:\n",
            " tensor([1., 1., 1., 1., 1.])\n"
          ]
        }
      ]
    },
    {
      "cell_type": "code",
      "source": [
        "print(\"Numpy:\\n\",num_ones)"
      ],
      "metadata": {
        "colab": {
          "base_uri": "https://localhost:8080/"
        },
        "id": "tBJGt7kNTQit",
        "outputId": "6b1ef315-7f3a-4957-9c58-ec9f1b91b0c2"
      },
      "execution_count": 73,
      "outputs": [
        {
          "output_type": "stream",
          "name": "stdout",
          "text": [
            "Numpy:\n",
            " [1. 1. 1. 1. 1.]\n"
          ]
        }
      ]
    },
    {
      "cell_type": "markdown",
      "source": [
        "A change in the tensor reflects in the NumPy array."
      ],
      "metadata": {
        "id": "UwOGa029Ti6R"
      }
    },
    {
      "cell_type": "code",
      "source": [
        "tens_ones.add_(1)"
      ],
      "metadata": {
        "colab": {
          "base_uri": "https://localhost:8080/"
        },
        "id": "6qoI4NPoTT9q",
        "outputId": "0f630e33-3725-41f3-b2e7-a9d887db959b"
      },
      "execution_count": 74,
      "outputs": [
        {
          "output_type": "execute_result",
          "data": {
            "text/plain": [
              "tensor([2., 2., 2., 2., 2.])"
            ]
          },
          "metadata": {},
          "execution_count": 74
        }
      ]
    },
    {
      "cell_type": "code",
      "source": [
        "num_ones"
      ],
      "metadata": {
        "colab": {
          "base_uri": "https://localhost:8080/"
        },
        "id": "to-mz4s8Tmay",
        "outputId": "31fc6395-fd0b-4590-fc1e-6a4172f0b6e3"
      },
      "execution_count": 75,
      "outputs": [
        {
          "output_type": "execute_result",
          "data": {
            "text/plain": [
              "array([2., 2., 2., 2., 2.], dtype=float32)"
            ]
          },
          "metadata": {},
          "execution_count": 75
        }
      ]
    },
    {
      "cell_type": "markdown",
      "source": [
        "## Numpy array to tensor"
      ],
      "metadata": {
        "id": "ACopyxP4TtQf"
      }
    },
    {
      "cell_type": "code",
      "source": [
        "numpy_arr = np.ones(5)\n",
        "tensor_arr = torch.from_numpy(numpy_arr)"
      ],
      "metadata": {
        "id": "uKjhmiMBTny5"
      },
      "execution_count": 76,
      "outputs": []
    },
    {
      "cell_type": "code",
      "source": [
        "print(\"Numpy array:\\n\",numpy_arr)"
      ],
      "metadata": {
        "colab": {
          "base_uri": "https://localhost:8080/"
        },
        "id": "5q95qoglT4Fy",
        "outputId": "5f14add4-2312-4fb5-a682-3c24822ec961"
      },
      "execution_count": 77,
      "outputs": [
        {
          "output_type": "stream",
          "name": "stdout",
          "text": [
            "Numpy array:\n",
            " [1. 1. 1. 1. 1.]\n"
          ]
        }
      ]
    },
    {
      "cell_type": "code",
      "source": [
        "print(\"Tensor array:\\n\",tensor_arr)"
      ],
      "metadata": {
        "colab": {
          "base_uri": "https://localhost:8080/"
        },
        "id": "G1GF_0_BT7S1",
        "outputId": "2994d3b0-94cb-41d8-f47c-aea98bfc8984"
      },
      "execution_count": 78,
      "outputs": [
        {
          "output_type": "stream",
          "name": "stdout",
          "text": [
            "Tensor array:\n",
            " tensor([1., 1., 1., 1., 1.], dtype=torch.float64)\n"
          ]
        }
      ]
    },
    {
      "cell_type": "markdown",
      "source": [
        "Changes in the NumPy array reflects in the tensor."
      ],
      "metadata": {
        "id": "rxKwT0ByUjjs"
      }
    },
    {
      "cell_type": "code",
      "source": [
        "np.add(numpy_arr, 1, out=numpy_arr)"
      ],
      "metadata": {
        "colab": {
          "base_uri": "https://localhost:8080/"
        },
        "id": "quHCHKzNT__P",
        "outputId": "839f6072-69d6-4864-951c-f4c2903b7011"
      },
      "execution_count": 79,
      "outputs": [
        {
          "output_type": "execute_result",
          "data": {
            "text/plain": [
              "array([2., 2., 2., 2., 2.])"
            ]
          },
          "metadata": {},
          "execution_count": 79
        }
      ]
    },
    {
      "cell_type": "code",
      "source": [
        "tensor_arr"
      ],
      "metadata": {
        "colab": {
          "base_uri": "https://localhost:8080/"
        },
        "id": "UmwBOOn9Urdp",
        "outputId": "def469c4-ffec-4fd6-de27-044c785e1d95"
      },
      "execution_count": 80,
      "outputs": [
        {
          "output_type": "execute_result",
          "data": {
            "text/plain": [
              "tensor([2., 2., 2., 2., 2.], dtype=torch.float64)"
            ]
          },
          "metadata": {},
          "execution_count": 80
        }
      ]
    },
    {
      "cell_type": "code",
      "source": [],
      "metadata": {
        "id": "lMFql_IvUt4z"
      },
      "execution_count": null,
      "outputs": []
    }
  ]
}